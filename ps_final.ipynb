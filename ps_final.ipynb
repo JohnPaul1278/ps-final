{
  "nbformat": 4,
  "nbformat_minor": 0,
  "metadata": {
    "colab": {
      "provenance": [],
      "toc_visible": true,
      "authorship_tag": "ABX9TyOdIYrkLr56Vurny2sevG6D",
      "include_colab_link": true
    },
    "kernelspec": {
      "name": "python3",
      "display_name": "Python 3"
    },
    "language_info": {
      "name": "python"
    }
  },
  "cells": [
    {
      "cell_type": "markdown",
      "metadata": {
        "id": "view-in-github",
        "colab_type": "text"
      },
      "source": [
        "<a href=\"https://colab.research.google.com/github/JohnPaul1278/ps-final/blob/main/ps_final.ipynb\" target=\"_parent\"><img src=\"https://colab.research.google.com/assets/colab-badge.svg\" alt=\"Open In Colab\"/></a>"
      ]
    },
    {
      "cell_type": "code",
      "execution_count": 3,
      "metadata": {
        "id": "WCL0ZLgeE4Sp"
      },
      "outputs": [],
      "source": [
        "import time, os, sys, re\n",
        "import zipfile, json, datetime, string\n",
        "import numpy as np\n",
        "from statistics import *\n",
        "\n",
        "import matplotlib.pyplot as plt\n",
        "import pandas as pd\n",
        "import pandas_datareader as pdr\n",
        "from pandas_datareader import wb\n",
        "from pandas.io.formats.style import Styler\n",
        "\n",
        "from google.colab import files\n",
        "\n",
        "import seaborn as sns\n",
        "\n",
        "from google.colab import data_table\n",
        "data_table.enable_dataframe_formatter()\n",
        "data_table.max_columns = 50\n",
        "\n",
        "from IPython.core.interactiveshell import InteractiveShell\n",
        "InteractiveShell.ast_node_interactivity = \"all\"\n",
        "\n",
        "plt.style.use('classic')"
      ]
    },
    {
      "cell_type": "markdown",
      "source": [
        "# Why are we so depressed about the economy?"
      ],
      "metadata": {
        "id": "C_a7EmRxMA8N"
      }
    },
    {
      "cell_type": "markdown",
      "source": [
        "Numerous recent reports have suggested that the economy is doing better than it has in years, but consumer sentiment doesn't match this positivity. The University of Michigan conducts a consumer sentiment survey that measures how people feel about the state of the economy and has found that, although recent months have shown an upwards trend, Americans are still far more pessimistic about the state of the economy than they have been in years past."
      ],
      "metadata": {
        "id": "Q-pz-pa2L_qf"
      }
    },
    {
      "cell_type": "code",
      "source": [
        "x1 = [2000,2002,2004,2006,2008,2010,2012,2014,2016,2018,2020,2022]\n",
        "y1 = [108,90,95,87,64,72,77,84,92,98,81,59]\n",
        "plt.plot(x1, y1, label = \"sentiment\")\n",
        "\n",
        "#here is the webpage for my source: http://www.sca.isr.umich.edu/\n",
        "#and here is where I found the specific data I'm using: http://www.sca.isr.umich.edu/tables.html\n",
        "#I used the yearly Consumer Sentiment Index data and tried to import it as both a csv and a xls file, but neither worked\n",
        "#the data isn't formatted well apparently. The data is still good, though, and the source is well respected in economics.\n",
        "#since the only variables are the year and the sentiment score, I decided to input the data manually, which you can see above.\n",
        "#I certainly would not do this for a larger dataset, but the amount of time it would take to clean up these files is just too long.\n",
        "\n",
        "plt.title('consumer sentiment')\n",
        "\n",
        "plt.legend()\n",
        "plt.show()"
      ],
      "metadata": {
        "colab": {
          "base_uri": "https://localhost:8080/",
          "height": 520
        },
        "id": "NOm2fSqNVZ5X",
        "outputId": "dd100618-2790-4c0e-d080-4089cfad5ad7"
      },
      "execution_count": 24,
      "outputs": [
        {
          "output_type": "execute_result",
          "data": {
            "text/plain": [
              "[<matplotlib.lines.Line2D at 0x7b8a050baaa0>]"
            ]
          },
          "metadata": {},
          "execution_count": 24
        },
        {
          "output_type": "execute_result",
          "data": {
            "text/plain": [
              "Text(0.5, 1.0, 'consumer sentiment')"
            ]
          },
          "metadata": {},
          "execution_count": 24
        },
        {
          "output_type": "execute_result",
          "data": {
            "text/plain": [
              "<matplotlib.legend.Legend at 0x7b8a07230910>"
            ]
          },
          "metadata": {},
          "execution_count": 24
        },
        {
          "output_type": "display_data",
          "data": {
            "text/plain": [
              "<Figure size 640x480 with 1 Axes>"
            ],
            "image/png": "[encoded data removed]"
          },
          "metadata": {}
        }
      ]
    },
    {
      "cell_type": "markdown",
      "source": [
        "While it is worth noting that the consumer sentiment index has since risen during 2023, there is still a discrepancy between the prosperity that economists measure and the impression that the average person has.\n",
        "\n",
        "Claudia Sahm, creator of the \"Sahm Rule\" for measuring incoming recessions, was interviewed by multiple sources trying to explain the phenomenon. She told NPR, “frankly, I think this year, in 2023, the disconnect has become glaring because as inflation has come down, inflation back down, unemployment's still low, and people are not having any of it” Goldmark, 2023.\n",
        "\n",
        "Indeed, the economy is recovering from the pandemic recession better than many economists had hoped it would. So why are people still pessimistic? Sahm points to perceptions of economic stability as a possible culprit, noting that \"when I asked people - are you better off financially than you were a year ago or five years ago? - I think of that as - do you have a bigger paycheck; do you have more in your bank account; do you have, you know, a better job? But I can see the case for when you ask people - are you better off financially? - they bring in more than that. They bring in - how stable is it?” Goldmark, 2023.\n",
        "\n",
        "To measure that stability, we need to look at how well people have been doing for the last several decades. We'll begin by looking at median weekly income for adults over twenty five years old, and we'll group them by educational attainment, since the Real Wage Trends report published by Donovan and Bradley in 2019 indicates that education has become a powerful indicator for distinguishing different groups of workers by wage."
      ],
      "metadata": {
        "id": "_1D-X8fjY49I"
      }
    },
    {
      "cell_type": "code",
      "source": [
        "start = datetime.datetime (2000, 1, 1)\n",
        "end = datetime.datetime (2023, 10, 1)\n",
        "df = pdr.DataReader(['LEU0252918500Q','LEU0252919100Q', 'LEU0252917300Q', 'LEU0252916700Q'],\n",
        "                    'fred', start, end)\n",
        "#LEU0252918500Q= bachelor's degree or higher\n",
        "#LEU0252919100Q= bachelor's degree only\n",
        "#LEU0252917300Q= high school education\n",
        "#LEU0252916700Q= less than high school education\n",
        "#these datasets all look at both wage and salary workers ages 25 and up.\n",
        "\n",
        "df=df.rename(columns={\"LEU0252918500Q\": \"advanced\",\n",
        "                      \"LEU0252919100Q\": \"bach\",\n",
        "                      \"LEU0252917300Q\": \"hs\",\n",
        "                      \"LEU0252916700Q\": \"dropout\",\n",
        "                      \"DATE\": \"year\"})\n",
        "\n",
        "df.plot()"
      ],
      "metadata": {
        "colab": {
          "base_uri": "https://localhost:8080/",
          "height": 476
        },
        "id": "4vfsO1RJF_Qs",
        "outputId": "a121daba-1697-48b6-b4f5-4b65998a8a75"
      },
      "execution_count": null,
      "outputs": [
        {
          "output_type": "execute_result",
          "data": {
            "text/plain": [
              "<Axes: xlabel='DATE'>"
            ]
          },
          "metadata": {},
          "execution_count": 23
        },
        {
          "output_type": "display_data",
          "data": {
            "text/plain": [
              "<Figure size 640x480 with 1 Axes>"
            ],
            "image/png": "[encoded data removed]"
          },
          "metadata": {}
        }
      ]
    },
    {
      "cell_type": "markdown",
      "source": [
        "This data shows the value of education in terms of wages, but it doesn't appear that anyone's wages are getting smaller. This chart does not account for inflation, however, so we'll see if that changes things. Perhaps inflation has been steep enough to render all of the increases in wages null. In a worst case scenario, work may be becoming LESS valuable over time, which would explain why Americans aren't impressed by the latest economic trends."
      ],
      "metadata": {
        "id": "eAHWIp7db-Tf"
      }
    },
    {
      "cell_type": "code",
      "source": [
        "pip install cpi==1.0.0"
      ],
      "metadata": {
        "colab": {
          "base_uri": "https://localhost:8080/"
        },
        "id": "AeP94RJEJAuq",
        "outputId": "8ca99e84-db56-4e35-d1d4-4ba6bd719344"
      },
      "execution_count": null,
      "outputs": [
        {
          "output_type": "stream",
          "name": "stdout",
          "text": [
            "Collecting cpi==1.0.0\n",
            "  Downloading cpi-1.0.0-py2.py3-none-any.whl (29.0 MB)\n",
            "\u001b[2K     \u001b[90m━━━━━━━━━━━━━━━━━━━━━━━━━━━━━━━━━━━━━━━━\u001b[0m \u001b[32m29.0/29.0 MB\u001b[0m \u001b[31m10.0 MB/s\u001b[0m eta \u001b[36m0:00:00\u001b[0m\n",
            "\u001b[?25hRequirement already satisfied: requests in /usr/local/lib/python3.10/dist-packages (from cpi==1.0.0) (2.31.0)\n",
            "Requirement already satisfied: click in /usr/local/lib/python3.10/dist-packages (from cpi==1.0.0) (8.1.7)\n",
            "Requirement already satisfied: python-dateutil in /usr/local/lib/python3.10/dist-packages (from cpi==1.0.0) (2.8.2)\n",
            "Requirement already satisfied: pandas in /usr/local/lib/python3.10/dist-packages (from cpi==1.0.0) (1.5.3)\n",
            "Requirement already satisfied: pytz>=2020.1 in /usr/local/lib/python3.10/dist-packages (from pandas->cpi==1.0.0) (2023.3.post1)\n",
            "Requirement already satisfied: numpy>=1.21.0 in /usr/local/lib/python3.10/dist-packages (from pandas->cpi==1.0.0) (1.23.5)\n",
            "Requirement already satisfied: six>=1.5 in /usr/local/lib/python3.10/dist-packages (from python-dateutil->cpi==1.0.0) (1.16.0)\n",
            "Requirement already satisfied: charset-normalizer<4,>=2 in /usr/local/lib/python3.10/dist-packages (from requests->cpi==1.0.0) (3.3.2)\n",
            "Requirement already satisfied: idna<4,>=2.5 in /usr/local/lib/python3.10/dist-packages (from requests->cpi==1.0.0) (3.6)\n",
            "Requirement already satisfied: urllib3<3,>=1.21.1 in /usr/local/lib/python3.10/dist-packages (from requests->cpi==1.0.0) (2.0.7)\n",
            "Requirement already satisfied: certifi>=2017.4.17 in /usr/local/lib/python3.10/dist-packages (from requests->cpi==1.0.0) (2023.11.17)\n",
            "Installing collected packages: cpi\n",
            "Successfully installed cpi-1.0.0\n"
          ]
        }
      ]
    },
    {
      "cell_type": "code",
      "source": [
        "import cpi"
      ],
      "metadata": {
        "colab": {
          "base_uri": "https://localhost:8080/"
        },
        "id": "9TS85NyoK9UO",
        "outputId": "7e823e3e-2e79-4852-a7a2-e7943d60d2e3"
      },
      "execution_count": null,
      "outputs": [
        {
          "output_type": "stream",
          "name": "stderr",
          "text": [
            "/usr/local/lib/python3.10/dist-packages/cpi/__init__.py:46: StaleDataWarning: CPI data is out of date. To accurately inflate to today's dollars, you must run `cpi.update()`.\n",
            "  warnings.warn(StaleDataWarning())\n",
            "WARNING:cpi:CPI data is out of date. To accurately inflate to today's dollars, you must run `cpi.update()`.\n"
          ]
        }
      ]
    },
    {
      "cell_type": "code",
      "source": [
        "cpi.update()"
      ],
      "metadata": {
        "id": "H60ouDm1K_0v"
      },
      "execution_count": null,
      "outputs": []
    },
    {
      "cell_type": "code",
      "source": [
        "df"
      ],
      "metadata": {
        "colab": {
          "base_uri": "https://localhost:8080/",
          "height": 557
        },
        "id": "HqW9aw44MHsl",
        "outputId": "8100ada3-245c-417e-91f8-c3e96a1888de"
      },
      "execution_count": null,
      "outputs": [
        {
          "output_type": "execute_result",
          "data": {
            "text/plain": [
              "            advanced  bach   hs  dropout\n",
              "DATE                                    \n",
              "2000-01-01       886   825  503      365\n",
              "2000-04-01       887   811  506      368\n",
              "2000-07-01       896   826  506      356\n",
              "2000-10-01       894   840  506      357\n",
              "2001-01-01       916   854  512      377\n",
              "...              ...   ...  ...      ...\n",
              "2022-07-01      1556  1452  866      692\n",
              "2022-10-01      1547  1435  875      675\n",
              "2023-01-01      1621  1488  884      682\n",
              "2023-04-01      1588  1467  889      713\n",
              "2023-07-01      1620  1499  905      721\n",
              "\n",
              "[95 rows x 4 columns]"
            ],
            "text/html": [
              "\n",
              "  <div id=\"df-5d43a442-4655-4510-8ca1-25604eff0727\" class=\"colab-df-container\">\n",
              "    <div>\n",
              "<style scoped>\n",
              "    .dataframe tbody tr th:only-of-type {\n",
              "        vertical-align: middle;\n",
              "    }\n",
              "\n",
              "    .dataframe tbody tr th {\n",
              "        vertical-align: top;\n",
              "    }\n",
              "\n",
              "    .dataframe thead th {\n",
              "        text-align: right;\n",
              "    }\n",
              "</style>\n",
              "<table border=\"1\" class=\"dataframe\">\n",
              "  <thead>\n",
              "    <tr style=\"text-align: right;\">\n",
              "      <th></th>\n",
              "      <th>advanced</th>\n",
              "      <th>bach</th>\n",
              "      <th>hs</th>\n",
              "      <th>dropout</th>\n",
              "    </tr>\n",
              "    <tr>\n",
              "      <th>DATE</th>\n",
              "      <th></th>\n",
              "      <th></th>\n",
              "      <th></th>\n",
              "      <th></th>\n",
              "    </tr>\n",
              "  </thead>\n",
              "  <tbody>\n",
              "    <tr>\n",
              "      <th>2000-01-01</th>\n",
              "      <td>886</td>\n",
              "      <td>825</td>\n",
              "      <td>503</td>\n",
              "      <td>365</td>\n",
              "    </tr>\n",
              "    <tr>\n",
              "      <th>2000-04-01</th>\n",
              "      <td>887</td>\n",
              "      <td>811</td>\n",
              "      <td>506</td>\n",
              "      <td>368</td>\n",
              "    </tr>\n",
              "    <tr>\n",
              "      <th>2000-07-01</th>\n",
              "      <td>896</td>\n",
              "      <td>826</td>\n",
              "      <td>506</td>\n",
              "      <td>356</td>\n",
              "    </tr>\n",
              "    <tr>\n",
              "      <th>2000-10-01</th>\n",
              "      <td>894</td>\n",
              "      <td>840</td>\n",
              "      <td>506</td>\n",
              "      <td>357</td>\n",
              "    </tr>\n",
              "    <tr>\n",
              "      <th>2001-01-01</th>\n",
              "      <td>916</td>\n",
              "      <td>854</td>\n",
              "      <td>512</td>\n",
              "      <td>377</td>\n",
              "    </tr>\n",
              "    <tr>\n",
              "      <th>...</th>\n",
              "      <td>...</td>\n",
              "      <td>...</td>\n",
              "      <td>...</td>\n",
              "      <td>...</td>\n",
              "    </tr>\n",
              "    <tr>\n",
              "      <th>2022-07-01</th>\n",
              "      <td>1556</td>\n",
              "      <td>1452</td>\n",
              "      <td>866</td>\n",
              "      <td>692</td>\n",
              "    </tr>\n",
              "    <tr>\n",
              "      <th>2022-10-01</th>\n",
              "      <td>1547</td>\n",
              "      <td>1435</td>\n",
              "      <td>875</td>\n",
              "      <td>675</td>\n",
              "    </tr>\n",
              "    <tr>\n",
              "      <th>2023-01-01</th>\n",
              "      <td>1621</td>\n",
              "      <td>1488</td>\n",
              "      <td>884</td>\n",
              "      <td>682</td>\n",
              "    </tr>\n",
              "    <tr>\n",
              "      <th>2023-04-01</th>\n",
              "      <td>1588</td>\n",
              "      <td>1467</td>\n",
              "      <td>889</td>\n",
              "      <td>713</td>\n",
              "    </tr>\n",
              "    <tr>\n",
              "      <th>2023-07-01</th>\n",
              "      <td>1620</td>\n",
              "      <td>1499</td>\n",
              "      <td>905</td>\n",
              "      <td>721</td>\n",
              "    </tr>\n",
              "  </tbody>\n",
              "</table>\n",
              "<p>95 rows × 4 columns</p>\n",
              "</div>\n",
              "    <div class=\"colab-df-buttons\">\n",
              "\n",
              "  <div class=\"colab-df-container\">\n",
              "    <button class=\"colab-df-convert\" onclick=\"convertToInteractive('df-5d43a442-4655-4510-8ca1-25604eff0727')\"\n",
              "            title=\"Convert this dataframe to an interactive table.\"\n",
              "            style=\"display:none;\">\n",
              "\n",
              "  <svg xmlns=\"http://www.w3.org/2000/svg\" height=\"24px\" viewBox=\"0 -960 960 960\">\n",
              "    <path d=\"M120-120v-720h720v720H120Zm60-500h600v-160H180v160Zm220 220h160v-160H400v160Zm0 220h160v-160H400v160ZM180-400h160v-160H180v160Zm440 0h160v-160H620v160ZM180-180h160v-160H180v160Zm440 0h160v-160H620v160Z\"/>\n",
              "  </svg>\n",
              "    </button>\n",
              "\n",
              "  <style>\n",
              "    .colab-df-container {\n",
              "      display:flex;\n",
              "      gap: 12px;\n",
              "    }\n",
              "\n",
              "    .colab-df-convert {\n",
              "      background-color: #E8F0FE;\n",
              "      border: none;\n",
              "      border-radius: 50%;\n",
              "      cursor: pointer;\n",
              "      display: none;\n",
              "      fill: #1967D2;\n",
              "      height: 32px;\n",
              "      padding: 0 0 0 0;\n",
              "      width: 32px;\n",
              "    }\n",
              "\n",
              "    .colab-df-convert:hover {\n",
              "      background-color: #E2EBFA;\n",
              "      box-shadow: 0px 1px 2px rgba(60, 64, 67, 0.3), 0px 1px 3px 1px rgba(60, 64, 67, 0.15);\n",
              "      fill: #174EA6;\n",
              "    }\n",
              "\n",
              "    .colab-df-buttons div {\n",
              "      margin-bottom: 4px;\n",
              "    }\n",
              "\n",
              "    [theme=dark] .colab-df-convert {\n",
              "      background-color: #3B4455;\n",
              "      fill: #D2E3FC;\n",
              "    }\n",
              "\n",
              "    [theme=dark] .colab-df-convert:hover {\n",
              "      background-color: #434B5C;\n",
              "      box-shadow: 0px 1px 3px 1px rgba(0, 0, 0, 0.15);\n",
              "      filter: drop-shadow(0px 1px 2px rgba(0, 0, 0, 0.3));\n",
              "      fill: #FFFFFF;\n",
              "    }\n",
              "  </style>\n",
              "\n",
              "    <script>\n",
              "      const buttonEl =\n",
              "        document.querySelector('#df-5d43a442-4655-4510-8ca1-25604eff0727 button.colab-df-convert');\n",
              "      buttonEl.style.display =\n",
              "        google.colab.kernel.accessAllowed ? 'block' : 'none';\n",
              "\n",
              "      async function convertToInteractive(key) {\n",
              "        const element = document.querySelector('#df-5d43a442-4655-4510-8ca1-25604eff0727');\n",
              "        const dataTable =\n",
              "          await google.colab.kernel.invokeFunction('convertToInteractive',\n",
              "                                                    [key], {});\n",
              "        if (!dataTable) return;\n",
              "\n",
              "        const docLinkHtml = 'Like what you see? Visit the ' +\n",
              "          '<a target=\"_blank\" href=https://colab.research.google.com/notebooks/data_table.ipynb>data table notebook</a>'\n",
              "          + ' to learn more about interactive tables.';\n",
              "        element.innerHTML = '';\n",
              "        dataTable['output_type'] = 'display_data';\n",
              "        await google.colab.output.renderOutput(dataTable, element);\n",
              "        const docLink = document.createElement('div');\n",
              "        docLink.innerHTML = docLinkHtml;\n",
              "        element.appendChild(docLink);\n",
              "      }\n",
              "    </script>\n",
              "  </div>\n",
              "\n",
              "\n",
              "<div id=\"df-135aaad6-3da3-4c01-8dcb-0d086df72fd3\">\n",
              "  <button class=\"colab-df-quickchart\" onclick=\"quickchart('df-135aaad6-3da3-4c01-8dcb-0d086df72fd3')\"\n",
              "            title=\"Suggest charts\"\n",
              "            style=\"display:none;\">\n",
              "\n",
              "<svg xmlns=\"http://www.w3.org/2000/svg\" height=\"24px\"viewBox=\"0 0 24 24\"\n",
              "     width=\"24px\">\n",
              "    <g>\n",
              "        <path d=\"M19 3H5c-1.1 0-2 .9-2 2v14c0 1.1.9 2 2 2h14c1.1 0 2-.9 2-2V5c0-1.1-.9-2-2-2zM9 17H7v-7h2v7zm4 0h-2V7h2v10zm4 0h-2v-4h2v4z\"/>\n",
              "    </g>\n",
              "</svg>\n",
              "  </button>\n",
              "\n",
              "<style>\n",
              "  .colab-df-quickchart {\n",
              "      --bg-color: #E8F0FE;\n",
              "      --fill-color: #1967D2;\n",
              "      --hover-bg-color: #E2EBFA;\n",
              "      --hover-fill-color: #174EA6;\n",
              "      --disabled-fill-color: #AAA;\n",
              "      --disabled-bg-color: #DDD;\n",
              "  }\n",
              "\n",
              "  [theme=dark] .colab-df-quickchart {\n",
              "      --bg-color: #3B4455;\n",
              "      --fill-color: #D2E3FC;\n",
              "      --hover-bg-color: #434B5C;\n",
              "      --hover-fill-color: #FFFFFF;\n",
              "      --disabled-bg-color: #3B4455;\n",
              "      --disabled-fill-color: #666;\n",
              "  }\n",
              "\n",
              "  .colab-df-quickchart {\n",
              "    background-color: var(--bg-color);\n",
              "    border: none;\n",
              "    border-radius: 50%;\n",
              "    cursor: pointer;\n",
              "    display: none;\n",
              "    fill: var(--fill-color);\n",
              "    height: 32px;\n",
              "    padding: 0;\n",
              "    width: 32px;\n",
              "  }\n",
              "\n",
              "  .colab-df-quickchart:hover {\n",
              "    background-color: var(--hover-bg-color);\n",
              "    box-shadow: 0 1px 2px rgba(60, 64, 67, 0.3), 0 1px 3px 1px rgba(60, 64, 67, 0.15);\n",
              "    fill: var(--button-hover-fill-color);\n",
              "  }\n",
              "\n",
              "  .colab-df-quickchart-complete:disabled,\n",
              "  .colab-df-quickchart-complete:disabled:hover {\n",
              "    background-color: var(--disabled-bg-color);\n",
              "    fill: var(--disabled-fill-color);\n",
              "    box-shadow: none;\n",
              "  }\n",
              "\n",
              "  .colab-df-spinner {\n",
              "    border: 2px solid var(--fill-color);\n",
              "    border-color: transparent;\n",
              "    border-bottom-color: var(--fill-color);\n",
              "    animation:\n",
              "      spin 1s steps(1) infinite;\n",
              "  }\n",
              "\n",
              "  @keyframes spin {\n",
              "    0% {\n",
              "      border-color: transparent;\n",
              "      border-bottom-color: var(--fill-color);\n",
              "      border-left-color: var(--fill-color);\n",
              "    }\n",
              "    20% {\n",
              "      border-color: transparent;\n",
              "      border-left-color: var(--fill-color);\n",
              "      border-top-color: var(--fill-color);\n",
              "    }\n",
              "    30% {\n",
              "      border-color: transparent;\n",
              "      border-left-color: var(--fill-color);\n",
              "      border-top-color: var(--fill-color);\n",
              "      border-right-color: var(--fill-color);\n",
              "    }\n",
              "    40% {\n",
              "      border-color: transparent;\n",
              "      border-right-color: var(--fill-color);\n",
              "      border-top-color: var(--fill-color);\n",
              "    }\n",
              "    60% {\n",
              "      border-color: transparent;\n",
              "      border-right-color: var(--fill-color);\n",
              "    }\n",
              "    80% {\n",
              "      border-color: transparent;\n",
              "      border-right-color: var(--fill-color);\n",
              "      border-bottom-color: var(--fill-color);\n",
              "    }\n",
              "    90% {\n",
              "      border-color: transparent;\n",
              "      border-bottom-color: var(--fill-color);\n",
              "    }\n",
              "  }\n",
              "</style>\n",
              "\n",
              "  <script>\n",
              "    async function quickchart(key) {\n",
              "      const quickchartButtonEl =\n",
              "        document.querySelector('#' + key + ' button');\n",
              "      quickchartButtonEl.disabled = true;  // To prevent multiple clicks.\n",
              "      quickchartButtonEl.classList.add('colab-df-spinner');\n",
              "      try {\n",
              "        const charts = await google.colab.kernel.invokeFunction(\n",
              "            'suggestCharts', [key], {});\n",
              "      } catch (error) {\n",
              "        console.error('Error during call to suggestCharts:', error);\n",
              "      }\n",
              "      quickchartButtonEl.classList.remove('colab-df-spinner');\n",
              "      quickchartButtonEl.classList.add('colab-df-quickchart-complete');\n",
              "    }\n",
              "    (() => {\n",
              "      let quickchartButtonEl =\n",
              "        document.querySelector('#df-135aaad6-3da3-4c01-8dcb-0d086df72fd3 button');\n",
              "      quickchartButtonEl.style.display =\n",
              "        google.colab.kernel.accessAllowed ? 'block' : 'none';\n",
              "    })();\n",
              "  </script>\n",
              "</div>\n",
              "    </div>\n",
              "  </div>\n"
            ],
            "application/vnd.google.colaboratory.module+javascript": "\n      import \"https://ssl.gstatic.com/colaboratory/data_table/881c4a0d49046431/data_table.js\";\n\n      const table = window.createDataTable({\n        data: [[\"2000-01-01 00:00:00\",\n{\n            'v': 886,\n            'f': \"886\",\n        },\n{\n            'v': 825,\n            'f': \"825\",\n        },\n{\n            'v': 503,\n            'f': \"503\",\n        },\n{\n            'v': 365,\n            'f': \"365\",\n        }],\n [\"2000-04-01 00:00:00\",\n{\n            'v': 887,\n            'f': \"887\",\n        },\n{\n            'v': 811,\n            'f': \"811\",\n        },\n{\n            'v': 506,\n            'f': \"506\",\n        },\n{\n            'v': 368,\n            'f': \"368\",\n        }],\n [\"2000-07-01 00:00:00\",\n{\n            'v': 896,\n            'f': \"896\",\n        },\n{\n            'v': 826,\n            'f': \"826\",\n        },\n{\n            'v': 506,\n            'f': \"506\",\n        },\n{\n            'v': 356,\n            'f': \"356\",\n        }],\n [\"2000-10-01 00:00:00\",\n{\n            'v': 894,\n            'f': \"894\",\n        },\n{\n            'v': 840,\n            'f': \"840\",\n        },\n{\n            'v': 506,\n            'f': \"506\",\n        },\n{\n            'v': 357,\n            'f': \"357\",\n        }],\n [\"2001-01-01 00:00:00\",\n{\n            'v': 916,\n            'f': \"916\",\n        },\n{\n            'v': 854,\n            'f': \"854\",\n        },\n{\n            'v': 512,\n            'f': \"512\",\n        },\n{\n            'v': 377,\n            'f': \"377\",\n        }],\n [\"2001-04-01 00:00:00\",\n{\n            'v': 912,\n            'f': \"912\",\n        },\n{\n            'v': 846,\n            'f': \"846\",\n        },\n{\n            'v': 519,\n            'f': \"519\",\n        },\n{\n            'v': 387,\n            'f': \"387\",\n        }],\n [\"2001-07-01 00:00:00\",\n{\n            'v': 928,\n            'f': \"928\",\n        },\n{\n            'v': 868,\n            'f': \"868\",\n        },\n{\n            'v': 522,\n            'f': \"522\",\n        },\n{\n            'v': 386,\n            'f': \"386\",\n        }],\n [\"2001-10-01 00:00:00\",\n{\n            'v': 927,\n            'f': \"927\",\n        },\n{\n            'v': 863,\n            'f': \"863\",\n        },\n{\n            'v': 531,\n            'f': \"531\",\n        },\n{\n            'v': 380,\n            'f': \"380\",\n        }],\n [\"2002-01-01 00:00:00\",\n{\n            'v': 940,\n            'f': \"940\",\n        },\n{\n            'v': 881,\n            'f': \"881\",\n        },\n{\n            'v': 533,\n            'f': \"533\",\n        },\n{\n            'v': 389,\n            'f': \"389\",\n        }],\n [\"2002-04-01 00:00:00\",\n{\n            'v': 939,\n            'f': \"939\",\n        },\n{\n            'v': 868,\n            'f': \"868\",\n        },\n{\n            'v': 532,\n            'f': \"532\",\n        },\n{\n            'v': 390,\n            'f': \"390\",\n        }],\n [\"2002-07-01 00:00:00\",\n{\n            'v': 941,\n            'f': \"941\",\n        },\n{\n            'v': 888,\n            'f': \"888\",\n        },\n{\n            'v': 532,\n            'f': \"532\",\n        },\n{\n            'v': 386,\n            'f': \"386\",\n        }],\n [\"2002-10-01 00:00:00\",\n{\n            'v': 943,\n            'f': \"943\",\n        },\n{\n            'v': 869,\n            'f': \"869\",\n        },\n{\n            'v': 542,\n            'f': \"542\",\n        },\n{\n            'v': 388,\n            'f': \"388\",\n        }],\n [\"2003-01-01 00:00:00\",\n{\n            'v': 961,\n            'f': \"961\",\n        },\n{\n            'v': 903,\n            'f': \"903\",\n        },\n{\n            'v': 549,\n            'f': \"549\",\n        },\n{\n            'v': 397,\n            'f': \"397\",\n        }],\n [\"2003-04-01 00:00:00\",\n{\n            'v': 969,\n            'f': \"969\",\n        },\n{\n            'v': 902,\n            'f': \"902\",\n        },\n{\n            'v': 547,\n            'f': \"547\",\n        },\n{\n            'v': 394,\n            'f': \"394\",\n        }],\n [\"2003-07-01 00:00:00\",\n{\n            'v': 958,\n            'f': \"958\",\n        },\n{\n            'v': 892,\n            'f': \"892\",\n        },\n{\n            'v': 563,\n            'f': \"563\",\n        },\n{\n            'v': 397,\n            'f': \"397\",\n        }],\n [\"2003-10-01 00:00:00\",\n{\n            'v': 967,\n            'f': \"967\",\n        },\n{\n            'v': 901,\n            'f': \"901\",\n        },\n{\n            'v': 556,\n            'f': \"556\",\n        },\n{\n            'v': 397,\n            'f': \"397\",\n        }],\n [\"2004-01-01 00:00:00\",\n{\n            'v': 996,\n            'f': \"996\",\n        },\n{\n            'v': 926,\n            'f': \"926\",\n        },\n{\n            'v': 562,\n            'f': \"562\",\n        },\n{\n            'v': 396,\n            'f': \"396\",\n        }],\n [\"2004-04-01 00:00:00\",\n{\n            'v': 973,\n            'f': \"973\",\n        },\n{\n            'v': 902,\n            'f': \"902\",\n        },\n{\n            'v': 576,\n            'f': \"576\",\n        },\n{\n            'v': 404,\n            'f': \"404\",\n        }],\n [\"2004-07-01 00:00:00\",\n{\n            'v': 984,\n            'f': \"984\",\n        },\n{\n            'v': 908,\n            'f': \"908\",\n        },\n{\n            'v': 574,\n            'f': \"574\",\n        },\n{\n            'v': 399,\n            'f': \"399\",\n        }],\n [\"2004-10-01 00:00:00\",\n{\n            'v': 996,\n            'f': \"996\",\n        },\n{\n            'v': 925,\n            'f': \"925\",\n        },\n{\n            'v': 581,\n            'f': \"581\",\n        },\n{\n            'v': 404,\n            'f': \"404\",\n        }],\n [\"2005-01-01 00:00:00\",\n{\n            'v': 1013,\n            'f': \"1013\",\n        },\n{\n            'v': 931,\n            'f': \"931\",\n        },\n{\n            'v': 579,\n            'f': \"579\",\n        },\n{\n            'v': 404,\n            'f': \"404\",\n        }],\n [\"2005-04-01 00:00:00\",\n{\n            'v': 996,\n            'f': \"996\",\n        },\n{\n            'v': 920,\n            'f': \"920\",\n        },\n{\n            'v': 584,\n            'f': \"584\",\n        },\n{\n            'v': 412,\n            'f': \"412\",\n        }],\n [\"2005-07-01 00:00:00\",\n{\n            'v': 1014,\n            'f': \"1014\",\n        },\n{\n            'v': 941,\n            'f': \"941\",\n        },\n{\n            'v': 583,\n            'f': \"583\",\n        },\n{\n            'v': 413,\n            'f': \"413\",\n        }],\n [\"2005-10-01 00:00:00\",\n{\n            'v': 1029,\n            'f': \"1029\",\n        },\n{\n            'v': 958,\n            'f': \"958\",\n        },\n{\n            'v': 585,\n            'f': \"585\",\n        },\n{\n            'v': 407,\n            'f': \"407\",\n        }],\n [\"2006-01-01 00:00:00\",\n{\n            'v': 1019,\n            'f': \"1019\",\n        },\n{\n            'v': 933,\n            'f': \"933\",\n        },\n{\n            'v': 592,\n            'f': \"592\",\n        },\n{\n            'v': 420,\n            'f': \"420\",\n        }],\n [\"2006-04-01 00:00:00\",\n{\n            'v': 1047,\n            'f': \"1047\",\n        },\n{\n            'v': 968,\n            'f': \"968\",\n        },\n{\n            'v': 591,\n            'f': \"591\",\n        },\n{\n            'v': 420,\n            'f': \"420\",\n        }],\n [\"2006-07-01 00:00:00\",\n{\n            'v': 1047,\n            'f': \"1047\",\n        },\n{\n            'v': 979,\n            'f': \"979\",\n        },\n{\n            'v': 602,\n            'f': \"602\",\n        },\n{\n            'v': 420,\n            'f': \"420\",\n        }],\n [\"2006-10-01 00:00:00\",\n{\n            'v': 1046,\n            'f': \"1046\",\n        },\n{\n            'v': 966,\n            'f': \"966\",\n        },\n{\n            'v': 597,\n            'f': \"597\",\n        },\n{\n            'v': 415,\n            'f': \"415\",\n        }],\n [\"2007-01-01 00:00:00\",\n{\n            'v': 1030,\n            'f': \"1030\",\n        },\n{\n            'v': 956,\n            'f': \"956\",\n        },\n{\n            'v': 602,\n            'f': \"602\",\n        },\n{\n            'v': 429,\n            'f': \"429\",\n        }],\n [\"2007-04-01 00:00:00\",\n{\n            'v': 1092,\n            'f': \"1092\",\n        },\n{\n            'v': 1014,\n            'f': \"1014\",\n        },\n{\n            'v': 597,\n            'f': \"597\",\n        },\n{\n            'v': 440,\n            'f': \"440\",\n        }],\n [\"2007-07-01 00:00:00\",\n{\n            'v': 1088,\n            'f': \"1088\",\n        },\n{\n            'v': 993,\n            'f': \"993\",\n        },\n{\n            'v': 610,\n            'f': \"610\",\n        },\n{\n            'v': 422,\n            'f': \"422\",\n        }],\n [\"2007-10-01 00:00:00\",\n{\n            'v': 1086,\n            'f': \"1086\",\n        },\n{\n            'v': 994,\n            'f': \"994\",\n        },\n{\n            'v': 610,\n            'f': \"610\",\n        },\n{\n            'v': 424,\n            'f': \"424\",\n        }],\n [\"2008-01-01 00:00:00\",\n{\n            'v': 1108,\n            'f': \"1108\",\n        },\n{\n            'v': 1012,\n            'f': \"1012\",\n        },\n{\n            'v': 615,\n            'f': \"615\",\n        },\n{\n            'v': 435,\n            'f': \"435\",\n        }],\n [\"2008-04-01 00:00:00\",\n{\n            'v': 1105,\n            'f': \"1105\",\n        },\n{\n            'v': 999,\n            'f': \"999\",\n        },\n{\n            'v': 620,\n            'f': \"620\",\n        },\n{\n            'v': 449,\n            'f': \"449\",\n        }],\n [\"2008-07-01 00:00:00\",\n{\n            'v': 1131,\n            'f': \"1131\",\n        },\n{\n            'v': 1020,\n            'f': \"1020\",\n        },\n{\n            'v': 618,\n            'f': \"618\",\n        },\n{\n            'v': 471,\n            'f': \"471\",\n        }],\n [\"2008-10-01 00:00:00\",\n{\n            'v': 1115,\n            'f': \"1115\",\n        },\n{\n            'v': 1016,\n            'f': \"1016\",\n        },\n{\n            'v': 619,\n            'f': \"619\",\n        },\n{\n            'v': 459,\n            'f': \"459\",\n        }],\n [\"2009-01-01 00:00:00\",\n{\n            'v': 1138,\n            'f': \"1138\",\n        },\n{\n            'v': 1024,\n            'f': \"1024\",\n        },\n{\n            'v': 620,\n            'f': \"620\",\n        },\n{\n            'v': 450,\n            'f': \"450\",\n        }],\n [\"2009-04-01 00:00:00\",\n{\n            'v': 1140,\n            'f': \"1140\",\n        },\n{\n            'v': 1031,\n            'f': \"1031\",\n        },\n{\n            'v': 630,\n            'f': \"630\",\n        },\n{\n            'v': 465,\n            'f': \"465\",\n        }],\n [\"2009-07-01 00:00:00\",\n{\n            'v': 1145,\n            'f': \"1145\",\n        },\n{\n            'v': 1026,\n            'f': \"1026\",\n        },\n{\n            'v': 621,\n            'f': \"621\",\n        },\n{\n            'v': 448,\n            'f': \"448\",\n        }],\n [\"2009-10-01 00:00:00\",\n{\n            'v': 1121,\n            'f': \"1121\",\n        },\n{\n            'v': 1020,\n            'f': \"1020\",\n        },\n{\n            'v': 638,\n            'f': \"638\",\n        },\n{\n            'v': 449,\n            'f': \"449\",\n        }],\n [\"2010-01-01 00:00:00\",\n{\n            'v': 1140,\n            'f': \"1140\",\n        },\n{\n            'v': 1024,\n            'f': \"1024\",\n        },\n{\n            'v': 624,\n            'f': \"624\",\n        },\n{\n            'v': 448,\n            'f': \"448\",\n        }],\n [\"2010-04-01 00:00:00\",\n{\n            'v': 1138,\n            'f': \"1138\",\n        },\n{\n            'v': 1032,\n            'f': \"1032\",\n        },\n{\n            'v': 629,\n            'f': \"629\",\n        },\n{\n            'v': 440,\n            'f': \"440\",\n        }],\n [\"2010-07-01 00:00:00\",\n{\n            'v': 1158,\n            'f': \"1158\",\n        },\n{\n            'v': 1044,\n            'f': \"1044\",\n        },\n{\n            'v': 622,\n            'f': \"622\",\n        },\n{\n            'v': 449,\n            'f': \"449\",\n        }],\n [\"2010-10-01 00:00:00\",\n{\n            'v': 1139,\n            'f': \"1139\",\n        },\n{\n            'v': 1049,\n            'f': \"1049\",\n        },\n{\n            'v': 633,\n            'f': \"633\",\n        },\n{\n            'v': 438,\n            'f': \"438\",\n        }],\n [\"2011-01-01 00:00:00\",\n{\n            'v': 1150,\n            'f': \"1150\",\n        },\n{\n            'v': 1054,\n            'f': \"1054\",\n        },\n{\n            'v': 633,\n            'f': \"633\",\n        },\n{\n            'v': 444,\n            'f': \"444\",\n        }],\n [\"2011-04-01 00:00:00\",\n{\n            'v': 1141,\n            'f': \"1141\",\n        },\n{\n            'v': 1043,\n            'f': \"1043\",\n        },\n{\n            'v': 643,\n            'f': \"643\",\n        },\n{\n            'v': 458,\n            'f': \"458\",\n        }],\n [\"2011-07-01 00:00:00\",\n{\n            'v': 1152,\n            'f': \"1152\",\n        },\n{\n            'v': 1047,\n            'f': \"1047\",\n        },\n{\n            'v': 636,\n            'f': \"636\",\n        },\n{\n            'v': 459,\n            'f': \"459\",\n        }],\n [\"2011-10-01 00:00:00\",\n{\n            'v': 1158,\n            'f': \"1158\",\n        },\n{\n            'v': 1071,\n            'f': \"1071\",\n        },\n{\n            'v': 641,\n            'f': \"641\",\n        },\n{\n            'v': 444,\n            'f': \"444\",\n        }],\n [\"2012-01-01 00:00:00\",\n{\n            'v': 1158,\n            'f': \"1158\",\n        },\n{\n            'v': 1051,\n            'f': \"1051\",\n        },\n{\n            'v': 653,\n            'f': \"653\",\n        },\n{\n            'v': 450,\n            'f': \"450\",\n        }],\n [\"2012-04-01 00:00:00\",\n{\n            'v': 1164,\n            'f': \"1164\",\n        },\n{\n            'v': 1070,\n            'f': \"1070\",\n        },\n{\n            'v': 659,\n            'f': \"659\",\n        },\n{\n            'v': 483,\n            'f': \"483\",\n        }],\n [\"2012-07-01 00:00:00\",\n{\n            'v': 1170,\n            'f': \"1170\",\n        },\n{\n            'v': 1071,\n            'f': \"1071\",\n        },\n{\n            'v': 648,\n            'f': \"648\",\n        },\n{\n            'v': 464,\n            'f': \"464\",\n        }],\n [\"2012-10-01 00:00:00\",\n{\n            'v': 1168,\n            'f': \"1168\",\n        },\n{\n            'v': 1071,\n            'f': \"1071\",\n        },\n{\n            'v': 647,\n            'f': \"647\",\n        },\n{\n            'v': 478,\n            'f': \"478\",\n        }],\n [\"2013-01-01 00:00:00\",\n{\n            'v': 1189,\n            'f': \"1189\",\n        },\n{\n            'v': 1095,\n            'f': \"1095\",\n        },\n{\n            'v': 651,\n            'f': \"651\",\n        },\n{\n            'v': 457,\n            'f': \"457\",\n        }],\n [\"2013-04-01 00:00:00\",\n{\n            'v': 1193,\n            'f': \"1193\",\n        },\n{\n            'v': 1101,\n            'f': \"1101\",\n        },\n{\n            'v': 647,\n            'f': \"647\",\n        },\n{\n            'v': 477,\n            'f': \"477\",\n        }],\n [\"2013-07-01 00:00:00\",\n{\n            'v': 1174,\n            'f': \"1174\",\n        },\n{\n            'v': 1101,\n            'f': \"1101\",\n        },\n{\n            'v': 659,\n            'f': \"659\",\n        },\n{\n            'v': 479,\n            'f': \"479\",\n        }],\n [\"2013-10-01 00:00:00\",\n{\n            'v': 1219,\n            'f': \"1219\",\n        },\n{\n            'v': 1131,\n            'f': \"1131\",\n        },\n{\n            'v': 648,\n            'f': \"648\",\n        },\n{\n            'v': 468,\n            'f': \"468\",\n        }],\n [\"2014-01-01 00:00:00\",\n{\n            'v': 1199,\n            'f': \"1199\",\n        },\n{\n            'v': 1102,\n            'f': \"1102\",\n        },\n{\n            'v': 660,\n            'f': \"660\",\n        },\n{\n            'v': 480,\n            'f': \"480\",\n        }],\n [\"2014-04-01 00:00:00\",\n{\n            'v': 1187,\n            'f': \"1187\",\n        },\n{\n            'v': 1098,\n            'f': \"1098\",\n        },\n{\n            'v': 666,\n            'f': \"666\",\n        },\n{\n            'v': 492,\n            'f': \"492\",\n        }],\n [\"2014-07-01 00:00:00\",\n{\n            'v': 1170,\n            'f': \"1170\",\n        },\n{\n            'v': 1068,\n            'f': \"1068\",\n        },\n{\n            'v': 681,\n            'f': \"681\",\n        },\n{\n            'v': 488,\n            'f': \"488\",\n        }],\n [\"2014-10-01 00:00:00\",\n{\n            'v': 1224,\n            'f': \"1224\",\n        },\n{\n            'v': 1131,\n            'f': \"1131\",\n        },\n{\n            'v': 664,\n            'f': \"664\",\n        },\n{\n            'v': 491,\n            'f': \"491\",\n        }],\n [\"2015-01-01 00:00:00\",\n{\n            'v': 1227,\n            'f': \"1227\",\n        },\n{\n            'v': 1134,\n            'f': \"1134\",\n        },\n{\n            'v': 669,\n            'f': \"669\",\n        },\n{\n            'v': 478,\n            'f': \"478\",\n        }],\n [\"2015-04-01 00:00:00\",\n{\n            'v': 1210,\n            'f': \"1210\",\n        },\n{\n            'v': 1130,\n            'f': \"1130\",\n        },\n{\n            'v': 678,\n            'f': \"678\",\n        },\n{\n            'v': 499,\n            'f': \"499\",\n        }],\n [\"2015-07-01 00:00:00\",\n{\n            'v': 1234,\n            'f': \"1234\",\n        },\n{\n            'v': 1143,\n            'f': \"1143\",\n        },\n{\n            'v': 672,\n            'f': \"672\",\n        },\n{\n            'v': 492,\n            'f': \"492\",\n        }],\n [\"2015-10-01 00:00:00\",\n{\n            'v': 1245,\n            'f': \"1245\",\n        },\n{\n            'v': 1143,\n            'f': \"1143\",\n        },\n{\n            'v': 690,\n            'f': \"690\",\n        },\n{\n            'v': 502,\n            'f': \"502\",\n        }],\n [\"2016-01-01 00:00:00\",\n{\n            'v': 1250,\n            'f': \"1250\",\n        },\n{\n            'v': 1155,\n            'f': \"1155\",\n        },\n{\n            'v': 679,\n            'f': \"679\",\n        },\n{\n            'v': 494,\n            'f': \"494\",\n        }],\n [\"2016-04-01 00:00:00\",\n{\n            'v': 1249,\n            'f': \"1249\",\n        },\n{\n            'v': 1155,\n            'f': \"1155\",\n        },\n{\n            'v': 690,\n            'f': \"690\",\n        },\n{\n            'v': 499,\n            'f': \"499\",\n        }],\n [\"2016-07-01 00:00:00\",\n{\n            'v': 1266,\n            'f': \"1266\",\n        },\n{\n            'v': 1152,\n            'f': \"1152\",\n        },\n{\n            'v': 700,\n            'f': \"700\",\n        },\n{\n            'v': 504,\n            'f': \"504\",\n        }],\n [\"2016-10-01 00:00:00\",\n{\n            'v': 1270,\n            'f': \"1270\",\n        },\n{\n            'v': 1161,\n            'f': \"1161\",\n        },\n{\n            'v': 698,\n            'f': \"698\",\n        },\n{\n            'v': 519,\n            'f': \"519\",\n        }],\n [\"2017-01-01 00:00:00\",\n{\n            'v': 1280,\n            'f': \"1280\",\n        },\n{\n            'v': 1179,\n            'f': \"1179\",\n        },\n{\n            'v': 702,\n            'f': \"702\",\n        },\n{\n            'v': 512,\n            'f': \"512\",\n        }],\n [\"2017-04-01 00:00:00\",\n{\n            'v': 1290,\n            'f': \"1290\",\n        },\n{\n            'v': 1189,\n            'f': \"1189\",\n        },\n{\n            'v': 718,\n            'f': \"718\",\n        },\n{\n            'v': 515,\n            'f': \"515\",\n        }],\n [\"2017-07-01 00:00:00\",\n{\n            'v': 1271,\n            'f': \"1271\",\n        },\n{\n            'v': 1164,\n            'f': \"1164\",\n        },\n{\n            'v': 714,\n            'f': \"714\",\n        },\n{\n            'v': 522,\n            'f': \"522\",\n        }],\n [\"2017-10-01 00:00:00\",\n{\n            'v': 1278,\n            'f': \"1278\",\n        },\n{\n            'v': 1170,\n            'f': \"1170\",\n        },\n{\n            'v': 714,\n            'f': \"714\",\n        },\n{\n            'v': 531,\n            'f': \"531\",\n        }],\n [\"2018-01-01 00:00:00\",\n{\n            'v': 1286,\n            'f': \"1286\",\n        },\n{\n            'v': 1169,\n            'f': \"1169\",\n        },\n{\n            'v': 713,\n            'f': \"713\",\n        },\n{\n            'v': 563,\n            'f': \"563\",\n        }],\n [\"2018-04-01 00:00:00\",\n{\n            'v': 1310,\n            'f': \"1310\",\n        },\n{\n            'v': 1187,\n            'f': \"1187\",\n        },\n{\n            'v': 726,\n            'f': \"726\",\n        },\n{\n            'v': 554,\n            'f': \"554\",\n        }],\n [\"2018-07-01 00:00:00\",\n{\n            'v': 1338,\n            'f': \"1338\",\n        },\n{\n            'v': 1232,\n            'f': \"1232\",\n        },\n{\n            'v': 736,\n            'f': \"736\",\n        },\n{\n            'v': 556,\n            'f': \"556\",\n        }],\n [\"2018-10-01 00:00:00\",\n{\n            'v': 1340,\n            'f': \"1340\",\n        },\n{\n            'v': 1205,\n            'f': \"1205\",\n        },\n{\n            'v': 746,\n            'f': \"746\",\n        },\n{\n            'v': 543,\n            'f': \"543\",\n        }],\n [\"2019-01-01 00:00:00\",\n{\n            'v': 1350,\n            'f': \"1350\",\n        },\n{\n            'v': 1213,\n            'f': \"1213\",\n        },\n{\n            'v': 739,\n            'f': \"739\",\n        },\n{\n            'v': 578,\n            'f': \"578\",\n        }],\n [\"2019-04-01 00:00:00\",\n{\n            'v': 1357,\n            'f': \"1357\",\n        },\n{\n            'v': 1236,\n            'f': \"1236\",\n        },\n{\n            'v': 751,\n            'f': \"751\",\n        },\n{\n            'v': 588,\n            'f': \"588\",\n        }],\n [\"2019-07-01 00:00:00\",\n{\n            'v': 1383,\n            'f': \"1383\",\n        },\n{\n            'v': 1281,\n            'f': \"1281\",\n        },\n{\n            'v': 749,\n            'f': \"749\",\n        },\n{\n            'v': 606,\n            'f': \"606\",\n        }],\n [\"2019-10-01 00:00:00\",\n{\n            'v': 1382,\n            'f': \"1382\",\n        },\n{\n            'v': 1259,\n            'f': \"1259\",\n        },\n{\n            'v': 747,\n            'f': \"747\",\n        },\n{\n            'v': 596,\n            'f': \"596\",\n        }],\n [\"2020-01-01 00:00:00\",\n{\n            'v': 1386,\n            'f': \"1386\",\n        },\n{\n            'v': 1263,\n            'f': \"1263\",\n        },\n{\n            'v': 768,\n            'f': \"768\",\n        },\n{\n            'v': 609,\n            'f': \"609\",\n        }],\n [\"2020-04-01 00:00:00\",\n{\n            'v': 1416,\n            'f': \"1416\",\n        },\n{\n            'v': 1303,\n            'f': \"1303\",\n        },\n{\n            'v': 788,\n            'f': \"788\",\n        },\n{\n            'v': 630,\n            'f': \"630\",\n        }],\n [\"2020-07-01 00:00:00\",\n{\n            'v': 1457,\n            'f': \"1457\",\n        },\n{\n            'v': 1355,\n            'f': \"1355\",\n        },\n{\n            'v': 793,\n            'f': \"793\",\n        },\n{\n            'v': 642,\n            'f': \"642\",\n        }],\n [\"2020-10-01 00:00:00\",\n{\n            'v': 1421,\n            'f': \"1421\",\n        },\n{\n            'v': 1283,\n            'f': \"1283\",\n        },\n{\n            'v': 781,\n            'f': \"781\",\n        },\n{\n            'v': 608,\n            'f': \"608\",\n        }],\n [\"2021-01-01 00:00:00\",\n{\n            'v': 1426,\n            'f': \"1426\",\n        },\n{\n            'v': 1296,\n            'f': \"1296\",\n        },\n{\n            'v': 792,\n            'f': \"792\",\n        },\n{\n            'v': 613,\n            'f': \"613\",\n        }],\n [\"2021-04-01 00:00:00\",\n{\n            'v': 1438,\n            'f': \"1438\",\n        },\n{\n            'v': 1314,\n            'f': \"1314\",\n        },\n{\n            'v': 793,\n            'f': \"793\",\n        },\n{\n            'v': 620,\n            'f': \"620\",\n        }],\n [\"2021-07-01 00:00:00\",\n{\n            'v': 1474,\n            'f': \"1474\",\n        },\n{\n            'v': 1358,\n            'f': \"1358\",\n        },\n{\n            'v': 817,\n            'f': \"817\",\n        },\n{\n            'v': 633,\n            'f': \"633\",\n        }],\n [\"2021-10-01 00:00:00\",\n{\n            'v': 1467,\n            'f': \"1467\",\n        },\n{\n            'v': 1351,\n            'f': \"1351\",\n        },\n{\n            'v': 831,\n            'f': \"831\",\n        },\n{\n            'v': 651,\n            'f': \"651\",\n        }],\n [\"2022-01-01 00:00:00\",\n{\n            'v': 1525,\n            'f': \"1525\",\n        },\n{\n            'v': 1395,\n            'f': \"1395\",\n        },\n{\n            'v': 827,\n            'f': \"827\",\n        },\n{\n            'v': 670,\n            'f': \"670\",\n        }],\n [\"2022-04-01 00:00:00\",\n{\n            'v': 1547,\n            'f': \"1547\",\n        },\n{\n            'v': 1441,\n            'f': \"1441\",\n        },\n{\n            'v': 838,\n            'f': \"838\",\n        },\n{\n            'v': 689,\n            'f': \"689\",\n        }],\n [\"2022-07-01 00:00:00\",\n{\n            'v': 1556,\n            'f': \"1556\",\n        },\n{\n            'v': 1452,\n            'f': \"1452\",\n        },\n{\n            'v': 866,\n            'f': \"866\",\n        },\n{\n            'v': 692,\n            'f': \"692\",\n        }],\n [\"2022-10-01 00:00:00\",\n{\n            'v': 1547,\n            'f': \"1547\",\n        },\n{\n            'v': 1435,\n            'f': \"1435\",\n        },\n{\n            'v': 875,\n            'f': \"875\",\n        },\n{\n            'v': 675,\n            'f': \"675\",\n        }],\n [\"2023-01-01 00:00:00\",\n{\n            'v': 1621,\n            'f': \"1621\",\n        },\n{\n            'v': 1488,\n            'f': \"1488\",\n        },\n{\n            'v': 884,\n            'f': \"884\",\n        },\n{\n            'v': 682,\n            'f': \"682\",\n        }],\n [\"2023-04-01 00:00:00\",\n{\n            'v': 1588,\n            'f': \"1588\",\n        },\n{\n            'v': 1467,\n            'f': \"1467\",\n        },\n{\n            'v': 889,\n            'f': \"889\",\n        },\n{\n            'v': 713,\n            'f': \"713\",\n        }],\n [\"2023-07-01 00:00:00\",\n{\n            'v': 1620,\n            'f': \"1620\",\n        },\n{\n            'v': 1499,\n            'f': \"1499\",\n        },\n{\n            'v': 905,\n            'f': \"905\",\n        },\n{\n            'v': 721,\n            'f': \"721\",\n        }]],\n        columns: [[\"string\", \"DATE\"], [\"number\", \"advanced\"], [\"number\", \"bach\"], [\"number\", \"hs\"], [\"number\", \"dropout\"]],\n        columnOptions: [{\"width\": \"1px\", \"className\": \"index_column\"}],\n        rowsPerPage: 25,\n        helpUrl: \"https://colab.research.google.com/notebooks/data_table.ipynb\",\n        suppressOutputScrolling: true,\n        minimumWidth: undefined,\n      });\n\n      function appendQuickchartButton(parentElement) {\n        let quickchartButtonContainerElement = document.createElement('div');\n        quickchartButtonContainerElement.innerHTML = `\n<div id=\"df-367bbc0a-083c-4e2c-a50d-06c21a506638\">\n  <button class=\"colab-df-quickchart\" onclick=\"quickchart('df-367bbc0a-083c-4e2c-a50d-06c21a506638')\"\n            title=\"Suggest charts\"\n            style=\"display:none;\">\n    \n<svg xmlns=\"http://www.w3.org/2000/svg\" height=\"24px\"viewBox=\"0 0 24 24\"\n     width=\"24px\">\n    <g>\n        <path d=\"M19 3H5c-1.1 0-2 .9-2 2v14c0 1.1.9 2 2 2h14c1.1 0 2-.9 2-2V5c0-1.1-.9-2-2-2zM9 17H7v-7h2v7zm4 0h-2V7h2v10zm4 0h-2v-4h2v4z\"/>\n    </g>\n</svg>\n  </button>\n  \n<style>\n  .colab-df-quickchart {\n      --bg-color: #E8F0FE;\n      --fill-color: #1967D2;\n      --hover-bg-color: #E2EBFA;\n      --hover-fill-color: #174EA6;\n      --disabled-fill-color: #AAA;\n      --disabled-bg-color: #DDD;\n  }\n\n  [theme=dark] .colab-df-quickchart {\n      --bg-color: #3B4455;\n      --fill-color: #D2E3FC;\n      --hover-bg-color: #434B5C;\n      --hover-fill-color: #FFFFFF;\n      --disabled-bg-color: #3B4455;\n      --disabled-fill-color: #666;\n  }\n\n  .colab-df-quickchart {\n    background-color: var(--bg-color);\n    border: none;\n    border-radius: 50%;\n    cursor: pointer;\n    display: none;\n    fill: var(--fill-color);\n    height: 32px;\n    padding: 0;\n    width: 32px;\n  }\n\n  .colab-df-quickchart:hover {\n    background-color: var(--hover-bg-color);\n    box-shadow: 0 1px 2px rgba(60, 64, 67, 0.3), 0 1px 3px 1px rgba(60, 64, 67, 0.15);\n    fill: var(--button-hover-fill-color);\n  }\n\n  .colab-df-quickchart-complete:disabled,\n  .colab-df-quickchart-complete:disabled:hover {\n    background-color: var(--disabled-bg-color);\n    fill: var(--disabled-fill-color);\n    box-shadow: none;\n  }\n\n  .colab-df-spinner {\n    border: 2px solid var(--fill-color);\n    border-color: transparent;\n    border-bottom-color: var(--fill-color);\n    animation:\n      spin 1s steps(1) infinite;\n  }\n\n  @keyframes spin {\n    0% {\n      border-color: transparent;\n      border-bottom-color: var(--fill-color);\n      border-left-color: var(--fill-color);\n    }\n    20% {\n      border-color: transparent;\n      border-left-color: var(--fill-color);\n      border-top-color: var(--fill-color);\n    }\n    30% {\n      border-color: transparent;\n      border-left-color: var(--fill-color);\n      border-top-color: var(--fill-color);\n      border-right-color: var(--fill-color);\n    }\n    40% {\n      border-color: transparent;\n      border-right-color: var(--fill-color);\n      border-top-color: var(--fill-color);\n    }\n    60% {\n      border-color: transparent;\n      border-right-color: var(--fill-color);\n    }\n    80% {\n      border-color: transparent;\n      border-right-color: var(--fill-color);\n      border-bottom-color: var(--fill-color);\n    }\n    90% {\n      border-color: transparent;\n      border-bottom-color: var(--fill-color);\n    }\n  }\n</style>\n\n  <script>\n    async function quickchart(key) {\n      const quickchartButtonEl =\n        document.querySelector('#' + key + ' button');\n      quickchartButtonEl.disabled = true;  // To prevent multiple clicks.\n      quickchartButtonEl.classList.add('colab-df-spinner');\n      try {\n        const charts = await google.colab.kernel.invokeFunction(\n            'suggestCharts', [key], {});\n      } catch (error) {\n        console.error('Error during call to suggestCharts:', error);\n      }\n      quickchartButtonEl.classList.remove('colab-df-spinner');\n      quickchartButtonEl.classList.add('colab-df-quickchart-complete');\n    }\n    (() => {\n      let quickchartButtonEl =\n        document.querySelector('#df-367bbc0a-083c-4e2c-a50d-06c21a506638 button');\n      quickchartButtonEl.style.display =\n        google.colab.kernel.accessAllowed ? 'block' : 'none';\n    })();\n  </script>\n</div>`;\n        parentElement.appendChild(quickchartButtonContainerElement);\n      }\n\n      appendQuickchartButton(table);\n    "
          },
          "metadata": {},
          "execution_count": 24
        }
      ]
    },
    {
      "cell_type": "markdown",
      "source": [
        "While this part is fairly tedious, I found it easier than trying to convert the entire dataset. I'm going to inflate the weekly median income of working adults over the age of 25 in four categories:\n",
        "1. Adults with a bachelor's degree or higher\n",
        "2. Adults with a bachelor's degree but nothing higher\n",
        "3. Adults who graduated from high school\n",
        "4. Adults who did not graduate from high school.\n",
        "\n",
        "I'm going to inflate the value of each category using the January reports from every four years starting with the year 2000 and ending with the year 2020."
      ],
      "metadata": {
        "id": "kRXkAU3da0yj"
      }
    },
    {
      "cell_type": "markdown",
      "source": [
        "# Weekly median income in the year 2000"
      ],
      "metadata": {
        "id": "hqmufUWkbvhi"
      }
    },
    {
      "cell_type": "markdown",
      "source": [
        "Adults over the age of 25 with a bachelor's degree or higher:"
      ],
      "metadata": {
        "id": "Q2McEUxbb2Ld"
      }
    },
    {
      "cell_type": "code",
      "source": [
        "cpi.inflate(886, 2000)"
      ],
      "metadata": {
        "colab": {
          "base_uri": "https://localhost:8080/"
        },
        "id": "56Wu9vg4R1ls",
        "outputId": "7bf47acf-e9cd-4e90-c03b-78dae0201155"
      },
      "execution_count": null,
      "outputs": [
        {
          "output_type": "execute_result",
          "data": {
            "text/plain": [
              "1394.189430894309"
            ]
          },
          "metadata": {},
          "execution_count": 31
        }
      ]
    },
    {
      "cell_type": "markdown",
      "source": [
        "Adults over the age of 25 with a bachelor's degree but nothing higher:"
      ],
      "metadata": {
        "id": "LSyyWZ6Wb6bH"
      }
    },
    {
      "cell_type": "code",
      "source": [
        "cpi.inflate(825, 2000)"
      ],
      "metadata": {
        "colab": {
          "base_uri": "https://localhost:8080/"
        },
        "id": "2OXC7EBfaMVX",
        "outputId": "9fa6606c-1db4-4608-fd80-cccd8b9dbc85"
      },
      "execution_count": null,
      "outputs": [
        {
          "output_type": "execute_result",
          "data": {
            "text/plain": [
              "1298.2012195121954"
            ]
          },
          "metadata": {},
          "execution_count": 32
        }
      ]
    },
    {
      "cell_type": "markdown",
      "source": [
        "Adults over the age of 25 who graduated from high school:"
      ],
      "metadata": {
        "id": "KavkNODsb-P9"
      }
    },
    {
      "cell_type": "code",
      "source": [
        "cpi.inflate(503, 2000)"
      ],
      "metadata": {
        "colab": {
          "base_uri": "https://localhost:8080/"
        },
        "id": "IRIls3B4atB5",
        "outputId": "7ef9977f-52fc-4e7e-cd3d-5bea166c4bf2"
      },
      "execution_count": null,
      "outputs": [
        {
          "output_type": "execute_result",
          "data": {
            "text/plain": [
              "791.509349593496"
            ]
          },
          "metadata": {},
          "execution_count": 33
        }
      ]
    },
    {
      "cell_type": "markdown",
      "source": [
        "Adults over the age of 25 who did not graduate from high school:"
      ],
      "metadata": {
        "id": "RqnqY4gRcCw2"
      }
    },
    {
      "cell_type": "code",
      "source": [
        "cpi.inflate(365, 2000)"
      ],
      "metadata": {
        "colab": {
          "base_uri": "https://localhost:8080/"
        },
        "id": "UwLh2DVUav6U",
        "outputId": "47145f43-b2b5-4159-87e2-e5995e88a028"
      },
      "execution_count": null,
      "outputs": [
        {
          "output_type": "execute_result",
          "data": {
            "text/plain": [
              "574.3556910569106"
            ]
          },
          "metadata": {},
          "execution_count": 34
        }
      ]
    },
    {
      "cell_type": "markdown",
      "source": [
        "# Weekly median income in the year 2004"
      ],
      "metadata": {
        "id": "8jtN325-cM-E"
      }
    },
    {
      "cell_type": "markdown",
      "source": [
        "Adults over the age of 25 with a bachelor's degree or higher:"
      ],
      "metadata": {
        "id": "QDP_pkTTcMEu"
      }
    },
    {
      "cell_type": "code",
      "source": [
        "cpi.inflate(996, 2004)"
      ],
      "metadata": {
        "colab": {
          "base_uri": "https://localhost:8080/"
        },
        "id": "efAz_SbNc1Bb",
        "outputId": "823cf7d6-1fd1-47e8-8702-4e600ae932ba"
      },
      "execution_count": null,
      "outputs": [
        {
          "output_type": "execute_result",
          "data": {
            "text/plain": [
              "1428.7248279512971"
            ]
          },
          "metadata": {},
          "execution_count": 39
        }
      ]
    },
    {
      "cell_type": "markdown",
      "source": [
        "Adults over the age of 25 with a bachelor's degree but nothing higher:"
      ],
      "metadata": {
        "id": "fNoVTNOdfC0R"
      }
    },
    {
      "cell_type": "code",
      "source": [
        "cpi.inflate(926, 2004)"
      ],
      "metadata": {
        "colab": {
          "base_uri": "https://localhost:8080/"
        },
        "id": "XNsvacwwc4XQ",
        "outputId": "fd950f9d-a467-4dee-f87d-9268341ed40c"
      },
      "execution_count": null,
      "outputs": [
        {
          "output_type": "execute_result",
          "data": {
            "text/plain": [
              "1328.3124404446799"
            ]
          },
          "metadata": {},
          "execution_count": 40
        }
      ]
    },
    {
      "cell_type": "markdown",
      "source": [
        "Adults over the age of 25 who graduated from high school:"
      ],
      "metadata": {
        "id": "FBQt4RLHfL_K"
      }
    },
    {
      "cell_type": "code",
      "source": [
        "cpi.inflate(562, 2004)"
      ],
      "metadata": {
        "colab": {
          "base_uri": "https://localhost:8080/"
        },
        "id": "rGVselARc71F",
        "outputId": "fff891cb-c63e-4df8-815c-702d50ce4814"
      },
      "execution_count": null,
      "outputs": [
        {
          "output_type": "execute_result",
          "data": {
            "text/plain": [
              "806.16802541027"
            ]
          },
          "metadata": {},
          "execution_count": 41
        }
      ]
    },
    {
      "cell_type": "markdown",
      "source": [
        "Adults over the age of 25 who did not graduate from high school:"
      ],
      "metadata": {
        "id": "ypNYs0kqfWWe"
      }
    },
    {
      "cell_type": "code",
      "source": [
        "cpi.inflate(396, 2004)"
      ],
      "metadata": {
        "colab": {
          "base_uri": "https://localhost:8080/"
        },
        "id": "druzDEZidBAa",
        "outputId": "19f245c4-a5fa-44a2-a00d-ad05bd68b44c"
      },
      "execution_count": null,
      "outputs": [
        {
          "output_type": "execute_result",
          "data": {
            "text/plain": [
              "568.0472207517205"
            ]
          },
          "metadata": {},
          "execution_count": 42
        }
      ]
    },
    {
      "cell_type": "markdown",
      "source": [
        "\n",
        "\n",
        "```\n",
        "#\n",
        "```\n",
        "\n",
        "# Weekly median income in the year 2008"
      ],
      "metadata": {
        "id": "38HwrPNQfhZN"
      }
    },
    {
      "cell_type": "markdown",
      "source": [
        "Adults over the age of 25 with a bachelor's degree or higher:"
      ],
      "metadata": {
        "id": "MQzKOffce5ho"
      }
    },
    {
      "cell_type": "code",
      "source": [
        "cpi.inflate(1108, 2008)"
      ],
      "metadata": {
        "colab": {
          "base_uri": "https://localhost:8080/"
        },
        "id": "M46MtQIvd3fp",
        "outputId": "ee3fdadc-6610-40fe-a5e8-a5797bbcfc3f"
      },
      "execution_count": null,
      "outputs": [
        {
          "output_type": "execute_result",
          "data": {
            "text/plain": [
              "1394.4755066116124"
            ]
          },
          "metadata": {},
          "execution_count": 48
        }
      ]
    },
    {
      "cell_type": "markdown",
      "source": [
        "Adults over the age of 25 with a bachelor's degree but nothing higher:"
      ],
      "metadata": {
        "id": "z1fgdgpofEVl"
      }
    },
    {
      "cell_type": "code",
      "source": [
        "cpi.inflate(1012, 2008)"
      ],
      "metadata": {
        "colab": {
          "base_uri": "https://localhost:8080/"
        },
        "id": "r9JF8uIvd7E9",
        "outputId": "be6008cd-5551-400a-be8d-041591de342e"
      },
      "execution_count": null,
      "outputs": [
        {
          "output_type": "execute_result",
          "data": {
            "text/plain": [
              "1273.6545240893067"
            ]
          },
          "metadata": {},
          "execution_count": 49
        }
      ]
    },
    {
      "cell_type": "markdown",
      "source": [
        "Adults over the age of 25 who graduated from high school:"
      ],
      "metadata": {
        "id": "_BiDb6jDfNGS"
      }
    },
    {
      "cell_type": "code",
      "source": [
        "cpi.inflate(615, 2008)"
      ],
      "metadata": {
        "colab": {
          "base_uri": "https://localhost:8080/"
        },
        "id": "kSH-qBq8d918",
        "outputId": "c438c71e-c9e9-4a93-c145-a7d49c6a7253"
      },
      "execution_count": null,
      "outputs": [
        {
          "output_type": "execute_result",
          "data": {
            "text/plain": [
              "774.0094192835214"
            ]
          },
          "metadata": {},
          "execution_count": 50
        }
      ]
    },
    {
      "cell_type": "markdown",
      "source": [
        "Adults over the age of 25 who did not graduate from high school:"
      ],
      "metadata": {
        "id": "v03d2wMTfYI0"
      }
    },
    {
      "cell_type": "code",
      "source": [
        "cpi.inflate(435, 2008)"
      ],
      "metadata": {
        "colab": {
          "base_uri": "https://localhost:8080/"
        },
        "id": "5___0tioeAvd",
        "outputId": "1c7160ce-77c2-460a-ecaf-e34875e85826"
      },
      "execution_count": null,
      "outputs": [
        {
          "output_type": "execute_result",
          "data": {
            "text/plain": [
              "547.4700770541981"
            ]
          },
          "metadata": {},
          "execution_count": 51
        }
      ]
    },
    {
      "cell_type": "markdown",
      "source": [
        "# Weekly median income in the year 2012"
      ],
      "metadata": {
        "id": "q9WZZvo_fsQV"
      }
    },
    {
      "cell_type": "markdown",
      "source": [
        "Adults over the age of 25 with a bachelor's degree or higher:"
      ],
      "metadata": {
        "id": "6zs7eLYce7EU"
      }
    },
    {
      "cell_type": "code",
      "source": [
        "cpi.inflate(1158, 2012)"
      ],
      "metadata": {
        "colab": {
          "base_uri": "https://localhost:8080/"
        },
        "id": "LIVGKff0eEih",
        "outputId": "0f5d3cad-043d-4f80-ad2d-d732d5a2fc1b"
      },
      "execution_count": null,
      "outputs": [
        {
          "output_type": "execute_result",
          "data": {
            "text/plain": [
              "1366.6875440995846"
            ]
          },
          "metadata": {},
          "execution_count": 52
        }
      ]
    },
    {
      "cell_type": "markdown",
      "source": [
        "Adults over the age of 25 with a bachelor's degree but nothing higher:"
      ],
      "metadata": {
        "id": "-GRMB1kEfFsy"
      }
    },
    {
      "cell_type": "code",
      "source": [
        "cpi.inflate(1057, 2012)"
      ],
      "metadata": {
        "colab": {
          "base_uri": "https://localhost:8080/"
        },
        "id": "hiBvl9NPeH7F",
        "outputId": "16f56bb1-048b-47ca-d6bf-c59da235767c"
      },
      "execution_count": null,
      "outputs": [
        {
          "output_type": "execute_result",
          "data": {
            "text/plain": [
              "1247.485953465683"
            ]
          },
          "metadata": {},
          "execution_count": 53
        }
      ]
    },
    {
      "cell_type": "markdown",
      "source": [
        "Adults over the age of 25 who graduated from high school:"
      ],
      "metadata": {
        "id": "ZgMCg1kofOeU"
      }
    },
    {
      "cell_type": "code",
      "source": [
        "cpi.inflate(653, 2012)"
      ],
      "metadata": {
        "colab": {
          "base_uri": "https://localhost:8080/"
        },
        "id": "RbzMp-zmeREK",
        "outputId": "b33b3d78-be8c-4880-9b27-e65852147589"
      },
      "execution_count": null,
      "outputs": [
        {
          "output_type": "execute_result",
          "data": {
            "text/plain": [
              "770.6795909300766"
            ]
          },
          "metadata": {},
          "execution_count": 54
        }
      ]
    },
    {
      "cell_type": "markdown",
      "source": [
        "Adults over the age of 25 who did not graduate from high school:"
      ],
      "metadata": {
        "id": "JqNBsgf1fZiT"
      }
    },
    {
      "cell_type": "code",
      "source": [
        "cpi.inflate(450, 2012)"
      ],
      "metadata": {
        "colab": {
          "base_uri": "https://localhost:8080/"
        },
        "id": "0LZZ_MWTeUff",
        "outputId": "4e71ff8c-cbb9-4078-9a5e-21ae0f1c431d"
      },
      "execution_count": null,
      "outputs": [
        {
          "output_type": "execute_result",
          "data": {
            "text/plain": [
              "531.096195893621"
            ]
          },
          "metadata": {},
          "execution_count": 55
        }
      ]
    },
    {
      "cell_type": "markdown",
      "source": [
        "# Weekly median income in the year 2016"
      ],
      "metadata": {
        "id": "8qCrISJMfw2u"
      }
    },
    {
      "cell_type": "markdown",
      "source": [
        "Adults over the age of 25 with a bachelor's degree or higher:"
      ],
      "metadata": {
        "id": "u-IGl22Be8ib"
      }
    },
    {
      "cell_type": "code",
      "source": [
        "cpi.inflate(1250, 2016)"
      ],
      "metadata": {
        "colab": {
          "base_uri": "https://localhost:8080/"
        },
        "id": "dKrpWcDCeWtN",
        "outputId": "6afd65e7-6958-4ccf-97f4-b46d913f06a2"
      },
      "execution_count": null,
      "outputs": [
        {
          "output_type": "execute_result",
          "data": {
            "text/plain": [
              "1411.2609215564548"
            ]
          },
          "metadata": {},
          "execution_count": 56
        }
      ]
    },
    {
      "cell_type": "markdown",
      "source": [
        "Adults over the age of 25 with a bachelor's degree but nothing higher:"
      ],
      "metadata": {
        "id": "7oiMh7aYfHJU"
      }
    },
    {
      "cell_type": "code",
      "source": [
        "cpi.inflate(1155, 2016)"
      ],
      "metadata": {
        "colab": {
          "base_uri": "https://localhost:8080/"
        },
        "id": "mH2ZnzRUebYY",
        "outputId": "d30672f0-c8a8-4f5b-b101-714b388d7607"
      },
      "execution_count": null,
      "outputs": [
        {
          "output_type": "execute_result",
          "data": {
            "text/plain": [
              "1304.0050915181641"
            ]
          },
          "metadata": {},
          "execution_count": 57
        }
      ]
    },
    {
      "cell_type": "markdown",
      "source": [
        "Adults over the age of 25 who graduated from high school:"
      ],
      "metadata": {
        "id": "Cs8DkSdEfPej"
      }
    },
    {
      "cell_type": "code",
      "source": [
        "cpi.inflate(679, 2016)"
      ],
      "metadata": {
        "colab": {
          "base_uri": "https://localhost:8080/"
        },
        "id": "vMN5tz1Meef7",
        "outputId": "8b7d679b-830d-450c-a198-be837c56bdd9"
      },
      "execution_count": null,
      "outputs": [
        {
          "output_type": "execute_result",
          "data": {
            "text/plain": [
              "766.5969325894662"
            ]
          },
          "metadata": {},
          "execution_count": 58
        }
      ]
    },
    {
      "cell_type": "markdown",
      "source": [
        "Adults over the age of 25 who did not graduate from high school:"
      ],
      "metadata": {
        "id": "drm0TJk0fbEl"
      }
    },
    {
      "cell_type": "code",
      "source": [
        "cpi.inflate(494, 2016)"
      ],
      "metadata": {
        "colab": {
          "base_uri": "https://localhost:8080/"
        },
        "id": "GWBSvi2dejZO",
        "outputId": "653e8fb1-fb56-46da-f8aa-cc9b485118dc"
      },
      "execution_count": null,
      "outputs": [
        {
          "output_type": "execute_result",
          "data": {
            "text/plain": [
              "557.7303161991109"
            ]
          },
          "metadata": {},
          "execution_count": 59
        }
      ]
    },
    {
      "cell_type": "markdown",
      "source": [
        "# Weekly median income in the year 2020"
      ],
      "metadata": {
        "id": "aHTtPJQhf0w-"
      }
    },
    {
      "cell_type": "markdown",
      "source": [
        "Adults over the age of 25 with a bachelor's degree or higher:"
      ],
      "metadata": {
        "id": "r6yNCr9de98i"
      }
    },
    {
      "cell_type": "code",
      "source": [
        "cpi.inflate(1386, 2020)"
      ],
      "metadata": {
        "colab": {
          "base_uri": "https://localhost:8080/"
        },
        "id": "BZmDu81Aemg6",
        "outputId": "a88a45cd-a14f-469b-b8b0-c96023a71538"
      },
      "execution_count": null,
      "outputs": [
        {
          "output_type": "execute_result",
          "data": {
            "text/plain": [
              "1451.1145971384526"
            ]
          },
          "metadata": {},
          "execution_count": 60
        }
      ]
    },
    {
      "cell_type": "markdown",
      "source": [
        "Adults over the age of 25 with a bachelor's degree but nothing higher:"
      ],
      "metadata": {
        "id": "cf-YMqs-fInK"
      }
    },
    {
      "cell_type": "code",
      "source": [
        "cpi.inflate(1263, 2020)"
      ],
      "metadata": {
        "colab": {
          "base_uri": "https://localhost:8080/"
        },
        "id": "HNmxMIAOerYZ",
        "outputId": "eb98778d-39cb-4a2d-8e6e-239038de479f"
      },
      "execution_count": null,
      "outputs": [
        {
          "output_type": "execute_result",
          "data": {
            "text/plain": [
              "1322.336028994131"
            ]
          },
          "metadata": {},
          "execution_count": 61
        }
      ]
    },
    {
      "cell_type": "markdown",
      "source": [
        "Adults over the age of 25 who graduated from high school:"
      ],
      "metadata": {
        "id": "7uQQ3x--fQqd"
      }
    },
    {
      "cell_type": "code",
      "source": [
        "cpi.inflate(768, 2020)"
      ],
      "metadata": {
        "colab": {
          "base_uri": "https://localhost:8080/"
        },
        "id": "zZ_J4o6SeukF",
        "outputId": "dd8d041e-2112-4612-b1f5-e1b2b393fb21"
      },
      "execution_count": null,
      "outputs": [
        {
          "output_type": "execute_result",
          "data": {
            "text/plain": [
              "804.0808157303981"
            ]
          },
          "metadata": {},
          "execution_count": 62
        }
      ]
    },
    {
      "cell_type": "markdown",
      "source": [
        "Adults over the age of 25 who did not graduate from high school:"
      ],
      "metadata": {
        "id": "yCnm1adEfcEe"
      }
    },
    {
      "cell_type": "code",
      "source": [
        "cpi.inflate(609, 2020)"
      ],
      "metadata": {
        "colab": {
          "base_uri": "https://localhost:8080/"
        },
        "id": "2yljzj2RexHS",
        "outputId": "77aab4c0-8e9b-489c-e010-44791c89c1ad"
      },
      "execution_count": null,
      "outputs": [
        {
          "output_type": "execute_result",
          "data": {
            "text/plain": [
              "637.610959348714"
            ]
          },
          "metadata": {},
          "execution_count": 63
        }
      ]
    },
    {
      "cell_type": "code",
      "source": [
        "x1 = [2000,2004,2008,2012,2016,2020]\n",
        "y1 = [1394,1429,1394,1367,1411,1451]\n",
        "plt.plot(x1, y1, label = \"advanced\")\n",
        "\n",
        "x2 = [2000,2004,2008,2012,2016,2020]\n",
        "y2 = [1298,1328,1274,1248,1304,1322]\n",
        "plt.plot(x2, y2, label = \"bach\")\n",
        "\n",
        "x3 = [2000,2004,2008,2012,2016,2020]\n",
        "y3 = [791,806,774,771,767,804]\n",
        "plt.plot(x3, y3, label = \"hs\")\n",
        "\n",
        "x4 = [2000,2004,2008,2012,2016,2020]\n",
        "y4 = [574,568,558,531,558,638]\n",
        "plt.plot(x4, y4, label = \"dropout\")\n",
        "\n",
        "plt.title('median weekly income by education attainment adjusted for inflation')\n",
        "\n",
        "plt.legend()\n",
        "plt.show()\n"
      ],
      "metadata": {
        "colab": {
          "base_uri": "https://localhost:8080/",
          "height": 520
        },
        "id": "24r__egyez2M",
        "outputId": "998e2311-b649-4fe5-a4bb-115b3547446c"
      },
      "execution_count": null,
      "outputs": [
        {
          "output_type": "execute_result",
          "data": {
            "text/plain": [
              "[<matplotlib.lines.Line2D at 0x798a2f1e28f0>]"
            ]
          },
          "metadata": {},
          "execution_count": 64
        },
        {
          "output_type": "execute_result",
          "data": {
            "text/plain": [
              "[<matplotlib.lines.Line2D at 0x798a2f9ff820>]"
            ]
          },
          "metadata": {},
          "execution_count": 64
        },
        {
          "output_type": "execute_result",
          "data": {
            "text/plain": [
              "[<matplotlib.lines.Line2D at 0x798a228467d0>]"
            ]
          },
          "metadata": {},
          "execution_count": 64
        },
        {
          "output_type": "execute_result",
          "data": {
            "text/plain": [
              "[<matplotlib.lines.Line2D at 0x798a30956230>]"
            ]
          },
          "metadata": {},
          "execution_count": 64
        },
        {
          "output_type": "execute_result",
          "data": {
            "text/plain": [
              "Text(0.5, 1.0, 'median weekly income by education attainment adjusted for inflation')"
            ]
          },
          "metadata": {},
          "execution_count": 64
        },
        {
          "output_type": "execute_result",
          "data": {
            "text/plain": [
              "<matplotlib.legend.Legend at 0x798a2f9ff8e0>"
            ]
          },
          "metadata": {},
          "execution_count": 64
        },
        {
          "output_type": "display_data",
          "data": {
            "text/plain": [
              "<Figure size 640x480 with 1 Axes>"
            ],
            "image/png": "[encoded data removed]"
          },
          "metadata": {}
        }
      ]
    },
    {
      "cell_type": "markdown",
      "source": [
        "With the data adjusted for inflation, it appears the median weekly income for all four categories has remained fairly constant over the last twenty years. The value of a week of work actually seems to be increasing for workers in general, with less than a high school education seeing an especially sharp rise in the value of their work.\n",
        "\n",
        "It is also worth noting that the divide between categories has changed very little as well, although this is not terribly surprising given that we are looking at medians instead of averages. Recent discourse suggests that the most significant gains in income and wealth have come from the wealthiest individuals in society, the top one percent or less, and we would therefore expect to see their gains reflected in the averages instead of the medians.\n",
        "\n",
        "In order to compare these adjusted wages to the national sentiment regarding the economy, I'm going to add the consumer sentiment data to this graph. Because the consumer sentiment index works in a scale that hovers above and below 100 while wages have dealt in the 1000s, I'm going to multiply the consumer sentiment data by 10 so it shows up next to the rest of the data. Since the consumer sentiment index uses numbers that are essentially arbitrary, this conversion will make the data appear more visible without tainting the relative changes in sentiment score on a yearly basis."
      ],
      "metadata": {
        "id": "bVCO89c7qzmv"
      }
    },
    {
      "cell_type": "code",
      "source": [
        "x1 = [2000,2004,2008,2012,2016,2020]\n",
        "y1 = [1394,1429,1394,1367,1411,1451]\n",
        "plt.plot(x1, y1, label = \"advanced\")\n",
        "\n",
        "x2 = [2000,2004,2008,2012,2016,2020]\n",
        "y2 = [1298,1328,1274,1248,1304,1322]\n",
        "plt.plot(x2, y2, label = \"bach\")\n",
        "\n",
        "x3 = [2000,2004,2008,2012,2016,2020]\n",
        "y3 = [791,806,774,771,767,804]\n",
        "plt.plot(x3, y3, label = \"hs\")\n",
        "\n",
        "x4 = [2000,2004,2008,2012,2016,2020]\n",
        "y4 = [574,568,558,531,558,638]\n",
        "plt.plot(x4, y4, label = \"dropout\")\n",
        "\n",
        "x5 = [2000,2004,2008,2012,2016,2020]\n",
        "y5 = [1080,950,640,770,920,810]\n",
        "plt.plot(x5, y5, label = \"sentiment\")\n",
        "\n",
        "plt.title('adjusted median income compared with consumer sentiment')\n",
        "\n",
        "plt.legend()\n",
        "plt.show()\n"
      ],
      "metadata": {
        "colab": {
          "base_uri": "https://localhost:8080/",
          "height": 590
        },
        "id": "2EOs_wjdjX3U",
        "outputId": "9b70590a-a1ff-4b9d-b358-7f2447b1a60e"
      },
      "execution_count": 27,
      "outputs": [
        {
          "output_type": "execute_result",
          "data": {
            "text/plain": [
              "[<matplotlib.lines.Line2D at 0x7b8a04ea36d0>]"
            ]
          },
          "metadata": {},
          "execution_count": 27
        },
        {
          "output_type": "execute_result",
          "data": {
            "text/plain": [
              "[<matplotlib.lines.Line2D at 0x7b8a04ea3a00>]"
            ]
          },
          "metadata": {},
          "execution_count": 27
        },
        {
          "output_type": "execute_result",
          "data": {
            "text/plain": [
              "[<matplotlib.lines.Line2D at 0x7b8a04ea3df0>]"
            ]
          },
          "metadata": {},
          "execution_count": 27
        },
        {
          "output_type": "execute_result",
          "data": {
            "text/plain": [
              "[<matplotlib.lines.Line2D at 0x7b8a04ec8070>]"
            ]
          },
          "metadata": {},
          "execution_count": 27
        },
        {
          "output_type": "execute_result",
          "data": {
            "text/plain": [
              "[<matplotlib.lines.Line2D at 0x7b8a04ec8370>]"
            ]
          },
          "metadata": {},
          "execution_count": 27
        },
        {
          "output_type": "execute_result",
          "data": {
            "text/plain": [
              "Text(0.5, 1.0, 'adjusted median income compared with consumer sentiment')"
            ]
          },
          "metadata": {},
          "execution_count": 27
        },
        {
          "output_type": "execute_result",
          "data": {
            "text/plain": [
              "<matplotlib.legend.Legend at 0x7b8a04ea3b80>"
            ]
          },
          "metadata": {},
          "execution_count": 27
        },
        {
          "output_type": "display_data",
          "data": {
            "text/plain": [
              "<Figure size 640x480 with 1 Axes>"
            ],
            "image/png": "[encoded data removed]"
          },
          "metadata": {}
        }
      ]
    },
    {
      "cell_type": "markdown",
      "source": [
        "# Discussion"
      ],
      "metadata": {
        "id": "ZNML3i-reMZu"
      }
    },
    {
      "cell_type": "markdown",
      "source": [
        "Perhaps there are other reasons that Americans feel so bad about the economy. Relative deprivation, for example, might lead people to feel like they are struggling when they compare themselves to the economic elite. Okulicz-Kozaryn presents this as a possible explanation for the decrease in happiness over the past few years, and while \"happiness\" and \"confidence in the economy\" are certainly not interchangable, the relative deprivation variable would logically behave similarly. The prevalence of social media and other internet sources make the gap far more visible.\n",
        "\n",
        "When we adjust the median incomes from our four education groups to inflation, it appears as though wages have remained fairly consistent. So are things worse, better, or the same? The data looks different when we compare the average wages from twenty years ago instead of the medians. This may be because the divide between the super rich and everyone else has grown, since such growth would be reflected in a comparison of averages but not a comparison of medians.\n",
        "\n",
        "On the other hand, debt has taken on a larger role in our economy and is not necessarily reflected in the conversion equation for inflation. The mundane, everyday economy may have been accounted for in the inflation equation, but what about real estate values? What about college debt? Credit card debt? Our wages still have the same spending power in the general economy, but how much has debt increased for the average American? Perhaps the prevalence of debt in our society has led to our pessimism issue; yes, we can pay for our daily goods, services, and bills, but our debts seem no closer to being paid off. Okulicz-Kozaryn states that “Perhaps, the increasing gap in happiness between income quintiles is not due to increasing income inequality, but due to increasing costs. Over the past four decades, in addition to stagnant wages, other troubling trends have developed. Healthcare costs have skyrocketed, and education costs have increased even more. Household debt increased, and college debt increased even more, surpassing credit card debt. One could therefore argue that it is rising costs, not inequality, that is responsible for the decline in happiness among the poor.” The sheer scale of debt in many cases can make the issue seem insurmountable, and promises that \"things are getting better or will get better\" may ring hollow after so many years of prices rising.\n",
        "\n",
        "\n",
        "A third alternative might be the development of class consciousness in the United States. Our wages and purchasing power have remained consistent for the past several decades, yes, but only now are the majority of Americans waking up to the injustice of the entire economic system. In other words: our conditions have not changed, but our understanding of our conditions has evolved to the point where the conditions that were acceptable twenty years ago are not acceptable today. The consumer sentiment data shows a sharp downturn after 2016. Political polarization has driven more and more people to both the far left and far right; neither of these ideological movements approve of the neoliberal status quo, and this may be responsible for our apparent pessimism. Ideology, unfortunately, can be difficult to measure. The GSS may be another place to look for more answers, but it may take years before we are truly able to find a causal link between our perception of the economy and its reality.\n"
      ],
      "metadata": {
        "id": "wB8xywwzeKhC"
      }
    },
    {
      "cell_type": "markdown",
      "source": [
        "# Works Cited"
      ],
      "metadata": {
        "id": "jBi7pipXi4WV"
      }
    },
    {
      "cell_type": "markdown",
      "source": [
        "Armstrong, Robert. 2023. “Claudia Sahm: It’s Clear Now Who Was Right.” Retrieved December 9, 2023 (https://www.ft.com/content/33f9dbb0-c620-4cd7-a7dc-02e47fe28c11).\n",
        "\n",
        "Donovan, Sarah, and David Bradley. 2019. Real Wage Trends, 1979 to 2018. 45090. Congressional Research Service.\n",
        "\n",
        "Goldmark, Alex, dir. 2023. “Why Are We so Bummed about the Economy? : Planet Money.” NPR.\n",
        "\n",
        "Hsu, Joanne. 2023. “Surveys of Consumers.” University of Michigan Survey of Consumers. Retrieved December 9, 2023 (http://www.sca.isr.umich.edu/).\n",
        "\n",
        "Okulicz-Kozaryn, Adam, and Joan Maya Mazelis. 2017. “More Unequal in Income, More Unequal in Wellbeing.” Social Indicators Research 132(3):953–75. doi: 10.1007/s11205-016-1327-0.\n"
      ],
      "metadata": {
        "id": "dfqedQeeit0o"
      }
    }
  ]
}